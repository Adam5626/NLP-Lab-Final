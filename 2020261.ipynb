{
 "cells": [
  {
   "cell_type": "code",
   "execution_count": 293,
   "id": "b54e6f92",
   "metadata": {},
   "outputs": [],
   "source": [
    "import pandas as pd\n",
    "import numpy as np\n",
    "import matplotlib.pyplot as plt\n",
    "import re\n",
    "import nltk\n",
    "from nltk.tokenize import word_tokenize\n",
    "from nltk.corpus import stopwords\n",
    "from nltk.stem import PorterStemmer\n",
    "from nltk.stem.wordnet import WordNetLemmatizer\n",
    "from nltk.probability import FreqDist\n",
    "from nltk.util import ngrams\n",
    "from wordcloud import WordCloud\n",
    "from collections import Counter\n",
    "from transformers import AutoTokenizer, AutoModelForSequenceClassification\n",
    "from scipy.special import softmax\n",
    "import twint\n",
    "import nest_asyncio\n",
    "import datetime as dt\n",
    "import seaborn as sns\n",
    "from textblob import TextBlob\n",
    "from nltk import pos_tag\n",
    "from nltk import sent_tokenize\n",
    "from sklearn.feature_extraction.text import TfidfVectorizer\n",
    "from sklearn.feature_extraction.text import CountVectorizer\n",
    "from gensim.models import Word2Vec\n",
    "from sklearn.preprocessing import LabelEncoder\n",
    "from sklearn.ensemble import RandomForestClassifier\n",
    "from sklearn.naive_bayes import GaussianNB\n",
    "from sklearn.metrics import confusion_matrix"
   ]
  },
  {
   "cell_type": "code",
   "execution_count": 51,
   "id": "46d8cd52",
   "metadata": {},
   "outputs": [
    {
     "name": "stderr",
     "output_type": "stream",
     "text": [
      "[nltk_data] Downloading package punkt to /Users/student/nltk_data...\n",
      "[nltk_data]   Package punkt is already up-to-date!\n",
      "[nltk_data] Downloading package stopwords to\n",
      "[nltk_data]     /Users/student/nltk_data...\n",
      "[nltk_data]   Package stopwords is already up-to-date!\n"
     ]
    },
    {
     "data": {
      "text/plain": [
       "True"
      ]
     },
     "execution_count": 51,
     "metadata": {},
     "output_type": "execute_result"
    }
   ],
   "source": [
    "nltk.download('punkt')\n",
    "nltk.download('stopwords')"
   ]
  },
  {
   "cell_type": "code",
   "execution_count": 19,
   "id": "442819ad",
   "metadata": {},
   "outputs": [],
   "source": [
    "tweets = pd.read_csv(\"tweets.csv\", dtype = \"string\")"
   ]
  },
  {
   "cell_type": "code",
   "execution_count": 205,
   "id": "40487317",
   "metadata": {},
   "outputs": [],
   "source": [
    "tweets_data = tweets.head(500)"
   ]
  },
  {
   "cell_type": "code",
   "execution_count": 206,
   "id": "da0a0ff7",
   "metadata": {},
   "outputs": [
    {
     "data": {
      "text/html": [
       "<div>\n",
       "<style scoped>\n",
       "    .dataframe tbody tr th:only-of-type {\n",
       "        vertical-align: middle;\n",
       "    }\n",
       "\n",
       "    .dataframe tbody tr th {\n",
       "        vertical-align: top;\n",
       "    }\n",
       "\n",
       "    .dataframe thead th {\n",
       "        text-align: right;\n",
       "    }\n",
       "</style>\n",
       "<table border=\"1\" class=\"dataframe\">\n",
       "  <thead>\n",
       "    <tr style=\"text-align: right;\">\n",
       "      <th></th>\n",
       "      <th>user_name</th>\n",
       "      <th>text</th>\n",
       "      <th>user_location</th>\n",
       "      <th>user_description</th>\n",
       "      <th>user_created</th>\n",
       "      <th>user_followers</th>\n",
       "      <th>user_friends</th>\n",
       "      <th>user_favourites</th>\n",
       "      <th>user_verified</th>\n",
       "      <th>date</th>\n",
       "      <th>hashtags</th>\n",
       "      <th>source</th>\n",
       "    </tr>\n",
       "  </thead>\n",
       "  <tbody>\n",
       "    <tr>\n",
       "      <th>0</th>\n",
       "      <td>Bohmle</td>\n",
       "      <td>#GPT4 for FREE. \n",
       "No its not a clickbait, @Qola...</td>\n",
       "      <td>Carkingga</td>\n",
       "      <td>&lt;NA&gt;</td>\n",
       "      <td>&lt;NA&gt;</td>\n",
       "      <td>&lt;NA&gt;</td>\n",
       "      <td>&lt;NA&gt;</td>\n",
       "      <td>&lt;NA&gt;</td>\n",
       "      <td>&lt;NA&gt;</td>\n",
       "      <td>&lt;NA&gt;</td>\n",
       "      <td>&lt;NA&gt;</td>\n",
       "      <td>&lt;NA&gt;</td>\n",
       "    </tr>\n",
       "    <tr>\n",
       "      <th>1</th>\n",
       "      <td>&lt;NA&gt;</td>\n",
       "      <td>AI enthusiast</td>\n",
       "      <td>2019-07-03 03:44:41+00:00</td>\n",
       "      <td>60.0</td>\n",
       "      <td>349.0</td>\n",
       "      <td>611</td>\n",
       "      <td>False</td>\n",
       "      <td>2023-05-17 18:11:12+00:00</td>\n",
       "      <td>['GPT4', 'ChatGPT4']</td>\n",
       "      <td>Twitter Web App</td>\n",
       "      <td>&lt;NA&gt;</td>\n",
       "      <td>&lt;NA&gt;</td>\n",
       "    </tr>\n",
       "    <tr>\n",
       "      <th>2</th>\n",
       "      <td>Dan Bruno AI</td>\n",
       "      <td>ChatGPT Thinks These 5 Crypto Coins Will Explo...</td>\n",
       "      <td>Manchester, NH</td>\n",
       "      <td>The latest in #ChatGPT, #BARD, #Bing, and othe...</td>\n",
       "      <td>2021-05-19 01:19:32+00:00</td>\n",
       "      <td>470.0</td>\n",
       "      <td>157.0</td>\n",
       "      <td>5185</td>\n",
       "      <td>False</td>\n",
       "      <td>2023-05-17 18:11:03+00:00</td>\n",
       "      <td>['chatgpt', 'AI', 'openAI']</td>\n",
       "      <td>dlvr.it</td>\n",
       "    </tr>\n",
       "    <tr>\n",
       "      <th>3</th>\n",
       "      <td>Georgiana Comsa</td>\n",
       "      <td>New: @JWVance's post about 5 #startups (includ...</td>\n",
       "      <td>Palo Alto</td>\n",
       "      <td>Founder of Silicon Valley PR, award-winning PR...</td>\n",
       "      <td>2008-12-24 09:32:23+00:00</td>\n",
       "      <td>3864.0</td>\n",
       "      <td>1883.0</td>\n",
       "      <td>2415</td>\n",
       "      <td>False</td>\n",
       "      <td>2023-05-17 18:10:25+00:00</td>\n",
       "      <td>['startups', 'startup50']</td>\n",
       "      <td>Twitter Web App</td>\n",
       "    </tr>\n",
       "    <tr>\n",
       "      <th>4</th>\n",
       "      <td>Bitone Great</td>\n",
       "      <td>🚨Get Out!🚨\n",
       "💰#Binance Spot💰\n",
       "⬇ Recommendation: #...</td>\n",
       "      <td>Hong Kong</td>\n",
       "      <td>#ChatGPT (AI) powered Free Trading Signal! \n",
       "Le...</td>\n",
       "      <td>2022-11-21 04:42:18+00:00</td>\n",
       "      <td>1517.0</td>\n",
       "      <td>506.0</td>\n",
       "      <td>64</td>\n",
       "      <td>False</td>\n",
       "      <td>2023-05-17 18:09:39+00:00</td>\n",
       "      <td>['Binance', 'Short', 'GHSTUSDT']</td>\n",
       "      <td>rsi1</td>\n",
       "    </tr>\n",
       "    <tr>\n",
       "      <th>...</th>\n",
       "      <td>...</td>\n",
       "      <td>...</td>\n",
       "      <td>...</td>\n",
       "      <td>...</td>\n",
       "      <td>...</td>\n",
       "      <td>...</td>\n",
       "      <td>...</td>\n",
       "      <td>...</td>\n",
       "      <td>...</td>\n",
       "      <td>...</td>\n",
       "      <td>...</td>\n",
       "      <td>...</td>\n",
       "    </tr>\n",
       "    <tr>\n",
       "      <th>495</th>\n",
       "      <td>O'Dwyer's PR News</td>\n",
       "      <td>#ChatGPT set off an endless stream of fear and...</td>\n",
       "      <td>New York, NY</td>\n",
       "      <td>The #1 news outlet for public relations, publi...</td>\n",
       "      <td>2009-02-25 15:50:27+00:00</td>\n",
       "      <td>15013.0</td>\n",
       "      <td>2876.0</td>\n",
       "      <td>1</td>\n",
       "      <td>False</td>\n",
       "      <td>2023-05-17 16:00:37+00:00</td>\n",
       "      <td>['ChatGPT']</td>\n",
       "      <td>Twitter Web App</td>\n",
       "    </tr>\n",
       "    <tr>\n",
       "      <th>496</th>\n",
       "      <td>Tracy Krauss, #author #artist #playwright</td>\n",
       "      <td>ChatGPT is a hot topic; there is no doubt. It ...</td>\n",
       "      <td>British Columbia, Canada</td>\n",
       "      <td>I write modern Christian romance with a twist ...</td>\n",
       "      <td>2010-06-19 04:45:43+00:00</td>\n",
       "      <td>2718.0</td>\n",
       "      <td>1803.0</td>\n",
       "      <td>348</td>\n",
       "      <td>False</td>\n",
       "      <td>2023-05-17 16:00:37+00:00</td>\n",
       "      <td>&lt;NA&gt;</td>\n",
       "      <td>Hootsuite Inc.</td>\n",
       "    </tr>\n",
       "    <tr>\n",
       "      <th>497</th>\n",
       "      <td>Tom Solid</td>\n",
       "      <td>Exciting news! #chatGPT has launched its Plugi...</td>\n",
       "      <td>Germany</td>\n",
       "      <td>🚀✨ We help you to build your productivity syst...</td>\n",
       "      <td>2010-12-04 11:00:53+00:00</td>\n",
       "      <td>3460.0</td>\n",
       "      <td>332.0</td>\n",
       "      <td>4464</td>\n",
       "      <td>False</td>\n",
       "      <td>2023-05-17 16:00:30+00:00</td>\n",
       "      <td>['chatGPT']</td>\n",
       "      <td>Hootsuite Inc.</td>\n",
       "    </tr>\n",
       "    <tr>\n",
       "      <th>498</th>\n",
       "      <td>Tweeting Monk</td>\n",
       "      <td>@Oncrawl Agreed! The #ChatGPT is definitely th...</td>\n",
       "      <td>GET 30% OFF FOR 3 MONTHS</td>\n",
       "      <td>Set your Twitter account on auto-pilot and wat...</td>\n",
       "      <td>2022-03-30 10:35:13+00:00</td>\n",
       "      <td>50.0</td>\n",
       "      <td>111.0</td>\n",
       "      <td>64</td>\n",
       "      <td>False</td>\n",
       "      <td>2023-05-17 16:00:28+00:00</td>\n",
       "      <td>['ChatGPT']</td>\n",
       "      <td>TweetingMonk</td>\n",
       "    </tr>\n",
       "    <tr>\n",
       "      <th>499</th>\n",
       "      <td>ManTFupTV</td>\n",
       "      <td>Do you agree whatever is put on the internet d...</td>\n",
       "      <td>Fort Lauderdale, FL</td>\n",
       "      <td>ManTFUp Podcast 🎙\n",
       "Listen to Season 2 NOW! 🔥\n",
       "🏎 ...</td>\n",
       "      <td>2021-11-09 15:26:21+00:00</td>\n",
       "      <td>343.0</td>\n",
       "      <td>12.0</td>\n",
       "      <td>27</td>\n",
       "      <td>False</td>\n",
       "      <td>2023-05-17 16:00:26+00:00</td>\n",
       "      <td>&lt;NA&gt;</td>\n",
       "      <td>Buffer</td>\n",
       "    </tr>\n",
       "  </tbody>\n",
       "</table>\n",
       "<p>500 rows × 12 columns</p>\n",
       "</div>"
      ],
      "text/plain": [
       "                                     user_name  \\\n",
       "0                                       Bohmle   \n",
       "1                                         <NA>   \n",
       "2                                 Dan Bruno AI   \n",
       "3                              Georgiana Comsa   \n",
       "4                                 Bitone Great   \n",
       "..                                         ...   \n",
       "495                          O'Dwyer's PR News   \n",
       "496  Tracy Krauss, #author #artist #playwright   \n",
       "497                                  Tom Solid   \n",
       "498                              Tweeting Monk   \n",
       "499                                  ManTFupTV   \n",
       "\n",
       "                                                  text  \\\n",
       "0    #GPT4 for FREE. \n",
       "No its not a clickbait, @Qola...   \n",
       "1                                        AI enthusiast   \n",
       "2    ChatGPT Thinks These 5 Crypto Coins Will Explo...   \n",
       "3    New: @JWVance's post about 5 #startups (includ...   \n",
       "4    🚨Get Out!🚨\n",
       "💰#Binance Spot💰\n",
       "⬇ Recommendation: #...   \n",
       "..                                                 ...   \n",
       "495  #ChatGPT set off an endless stream of fear and...   \n",
       "496  ChatGPT is a hot topic; there is no doubt. It ...   \n",
       "497  Exciting news! #chatGPT has launched its Plugi...   \n",
       "498  @Oncrawl Agreed! The #ChatGPT is definitely th...   \n",
       "499  Do you agree whatever is put on the internet d...   \n",
       "\n",
       "                 user_location  \\\n",
       "0                    Carkingga   \n",
       "1    2019-07-03 03:44:41+00:00   \n",
       "2               Manchester, NH   \n",
       "3                    Palo Alto   \n",
       "4                    Hong Kong   \n",
       "..                         ...   \n",
       "495               New York, NY   \n",
       "496   British Columbia, Canada   \n",
       "497                    Germany   \n",
       "498   GET 30% OFF FOR 3 MONTHS   \n",
       "499        Fort Lauderdale, FL   \n",
       "\n",
       "                                      user_description  \\\n",
       "0                                                 <NA>   \n",
       "1                                                 60.0   \n",
       "2    The latest in #ChatGPT, #BARD, #Bing, and othe...   \n",
       "3    Founder of Silicon Valley PR, award-winning PR...   \n",
       "4    #ChatGPT (AI) powered Free Trading Signal! \n",
       "Le...   \n",
       "..                                                 ...   \n",
       "495  The #1 news outlet for public relations, publi...   \n",
       "496  I write modern Christian romance with a twist ...   \n",
       "497  🚀✨ We help you to build your productivity syst...   \n",
       "498  Set your Twitter account on auto-pilot and wat...   \n",
       "499  ManTFUp Podcast 🎙\n",
       "Listen to Season 2 NOW! 🔥\n",
       "🏎 ...   \n",
       "\n",
       "                  user_created user_followers user_friends  \\\n",
       "0                         <NA>           <NA>         <NA>   \n",
       "1                        349.0            611        False   \n",
       "2    2021-05-19 01:19:32+00:00          470.0        157.0   \n",
       "3    2008-12-24 09:32:23+00:00         3864.0       1883.0   \n",
       "4    2022-11-21 04:42:18+00:00         1517.0        506.0   \n",
       "..                         ...            ...          ...   \n",
       "495  2009-02-25 15:50:27+00:00        15013.0       2876.0   \n",
       "496  2010-06-19 04:45:43+00:00         2718.0       1803.0   \n",
       "497  2010-12-04 11:00:53+00:00         3460.0        332.0   \n",
       "498  2022-03-30 10:35:13+00:00           50.0        111.0   \n",
       "499  2021-11-09 15:26:21+00:00          343.0         12.0   \n",
       "\n",
       "               user_favourites         user_verified  \\\n",
       "0                         <NA>                  <NA>   \n",
       "1    2023-05-17 18:11:12+00:00  ['GPT4', 'ChatGPT4']   \n",
       "2                         5185                 False   \n",
       "3                         2415                 False   \n",
       "4                           64                 False   \n",
       "..                         ...                   ...   \n",
       "495                          1                 False   \n",
       "496                        348                 False   \n",
       "497                       4464                 False   \n",
       "498                         64                 False   \n",
       "499                         27                 False   \n",
       "\n",
       "                          date                          hashtags  \\\n",
       "0                         <NA>                              <NA>   \n",
       "1              Twitter Web App                              <NA>   \n",
       "2    2023-05-17 18:11:03+00:00       ['chatgpt', 'AI', 'openAI']   \n",
       "3    2023-05-17 18:10:25+00:00         ['startups', 'startup50']   \n",
       "4    2023-05-17 18:09:39+00:00  ['Binance', 'Short', 'GHSTUSDT']   \n",
       "..                         ...                               ...   \n",
       "495  2023-05-17 16:00:37+00:00                       ['ChatGPT']   \n",
       "496  2023-05-17 16:00:37+00:00                              <NA>   \n",
       "497  2023-05-17 16:00:30+00:00                       ['chatGPT']   \n",
       "498  2023-05-17 16:00:28+00:00                       ['ChatGPT']   \n",
       "499  2023-05-17 16:00:26+00:00                              <NA>   \n",
       "\n",
       "              source  \n",
       "0               <NA>  \n",
       "1               <NA>  \n",
       "2            dlvr.it  \n",
       "3    Twitter Web App  \n",
       "4               rsi1  \n",
       "..               ...  \n",
       "495  Twitter Web App  \n",
       "496   Hootsuite Inc.  \n",
       "497   Hootsuite Inc.  \n",
       "498     TweetingMonk  \n",
       "499           Buffer  \n",
       "\n",
       "[500 rows x 12 columns]"
      ]
     },
     "execution_count": 206,
     "metadata": {},
     "output_type": "execute_result"
    }
   ],
   "source": [
    "tweets_data"
   ]
  },
  {
   "cell_type": "code",
   "execution_count": 207,
   "id": "c34db743",
   "metadata": {},
   "outputs": [],
   "source": [
    "tweets_data = tweets_data.drop_duplicates(subset = [\"text\"])\n",
    "tweets_data = tweets_data.dropna(subset = [\"text\"])"
   ]
  },
  {
   "cell_type": "code",
   "execution_count": 33,
   "id": "1f081ec0",
   "metadata": {},
   "outputs": [],
   "source": [
    "def convert_to_text(dataframe):\n",
    "    text = \"\"\n",
    "    for i in dataframe['text']:\n",
    "        text = text+i\n",
    "    return text"
   ]
  },
  {
   "cell_type": "code",
   "execution_count": 34,
   "id": "7aaec78c",
   "metadata": {},
   "outputs": [],
   "source": [
    "text = convert_to_text(tweets_data)"
   ]
  },
  {
   "cell_type": "code",
   "execution_count": 66,
   "id": "20d77a13",
   "metadata": {},
   "outputs": [],
   "source": [
    "def remove_links(text):\n",
    "    result = re.sub(r'http\\S+', '', text, flags=re.MULTILINE)\n",
    "    return text"
   ]
  },
  {
   "cell_type": "code",
   "execution_count": 67,
   "id": "9498993f",
   "metadata": {},
   "outputs": [],
   "source": [
    "text = remove_links(text)"
   ]
  },
  {
   "cell_type": "code",
   "execution_count": 68,
   "id": "d438375b",
   "metadata": {},
   "outputs": [],
   "source": [
    "def remove_specialwords(text):\n",
    "    filteredText=re.sub('[^A-Za-z0-9.]+', ' ',text)\n",
    "    return filteredText"
   ]
  },
  {
   "cell_type": "code",
   "execution_count": 69,
   "id": "aa117453",
   "metadata": {},
   "outputs": [],
   "source": [
    "text = remove_specialwords(text)"
   ]
  },
  {
   "cell_type": "code",
   "execution_count": 43,
   "id": "a203c535",
   "metadata": {},
   "outputs": [],
   "source": [
    "def word_tokenizer(text):\n",
    "    tokens = word_tokenize(text)\n",
    "    return tokens"
   ]
  },
  {
   "cell_type": "code",
   "execution_count": 44,
   "id": "c78d977b",
   "metadata": {},
   "outputs": [],
   "source": [
    "tokens = word_tokenize(text)"
   ]
  },
  {
   "cell_type": "code",
   "execution_count": 52,
   "id": "04b1bea9",
   "metadata": {},
   "outputs": [],
   "source": [
    "def remove_punct(token):\n",
    "     return [word for word in token if word.isalpha()]"
   ]
  },
  {
   "cell_type": "code",
   "execution_count": 53,
   "id": "8b9d891d",
   "metadata": {},
   "outputs": [],
   "source": [
    "tokens = remove_punct(tokens)"
   ]
  },
  {
   "cell_type": "code",
   "execution_count": 56,
   "id": "e25b4e9f",
   "metadata": {},
   "outputs": [],
   "source": [
    "def remove_stopwords(tokens):\n",
    "    stop_words = set(stopwords.words('english'))\n",
    "    filtered_tokens = [w for w in tokens if not w.lower() in stop_words]\n",
    "    return filtered_tokens"
   ]
  },
  {
   "cell_type": "code",
   "execution_count": 57,
   "id": "93cd3fbf",
   "metadata": {},
   "outputs": [],
   "source": [
    "tokens = remove_stopwords(tokens)"
   ]
  },
  {
   "cell_type": "code",
   "execution_count": 60,
   "id": "2f84fadb",
   "metadata": {},
   "outputs": [],
   "source": [
    "def stemming(tokens):\n",
    "    ps = PorterStemmer()\n",
    "    stemmed_tokens = [ps.stem(words_sent) for words_sent in tokens]\n",
    "    return stemmed_tokens"
   ]
  },
  {
   "cell_type": "code",
   "execution_count": 61,
   "id": "0484e4e5",
   "metadata": {},
   "outputs": [],
   "source": [
    "tokens = stemming(tokens)"
   ]
  },
  {
   "cell_type": "code",
   "execution_count": 64,
   "id": "39d5ebaa",
   "metadata": {},
   "outputs": [],
   "source": [
    "def lemmetization(tokens):\n",
    "    lemmatizer = WordNetLemmatizer()\n",
    "    lem_sent = [lemmatizer.lemmatize(words_sent) for words_sent in tokens]\n",
    "    return lem_sent"
   ]
  },
  {
   "cell_type": "code",
   "execution_count": 65,
   "id": "c0085b2e",
   "metadata": {},
   "outputs": [],
   "source": [
    "tokens = lemmetization(tokens)"
   ]
  },
  {
   "cell_type": "code",
   "execution_count": 79,
   "id": "98e63e42",
   "metadata": {},
   "outputs": [],
   "source": [
    "def bigrams(tokens):\n",
    "    bi_grams = ngrams(tokens , 2)\n",
    "    return list(bi_grams)"
   ]
  },
  {
   "cell_type": "code",
   "execution_count": 81,
   "id": "99dac5eb",
   "metadata": {},
   "outputs": [],
   "source": [
    "def trigrams(tokens):\n",
    "    tri_grams = ngrams(tokens , 3)\n",
    "    return list(tri_grams)"
   ]
  },
  {
   "cell_type": "code",
   "execution_count": 82,
   "id": "054a9dc1",
   "metadata": {},
   "outputs": [],
   "source": [
    "bi_grams = bigrams(tokens)"
   ]
  },
  {
   "cell_type": "code",
   "execution_count": 83,
   "id": "f2856192",
   "metadata": {},
   "outputs": [],
   "source": [
    "tri_grams = trigrams(tokens)"
   ]
  },
  {
   "cell_type": "code",
   "execution_count": 107,
   "id": "ecbddc03",
   "metadata": {},
   "outputs": [],
   "source": [
    "def bigrams_analysis(bi_grams):\n",
    "    count_bigrams = FreqDist(bi_grams)\n",
    "    dic_bigrams = dict(Counter(count_bigrams))\n",
    "    return dic_bigrams  "
   ]
  },
  {
   "cell_type": "code",
   "execution_count": 108,
   "id": "787a9f2a",
   "metadata": {},
   "outputs": [],
   "source": [
    "def trigrams_analysis(tri_grams):\n",
    "    count_trigrams = FreqDist(tri_grams)\n",
    "    return dic_trigrams"
   ]
  },
  {
   "cell_type": "code",
   "execution_count": 111,
   "id": "8880cbad",
   "metadata": {},
   "outputs": [],
   "source": [
    "bigrams_count = bigrams_analysis(bi_grams)\n",
    "trigrams_count = trigrams_analysis(tri_grams)"
   ]
  },
  {
   "cell_type": "code",
   "execution_count": 161,
   "id": "c2ede6ea",
   "metadata": {},
   "outputs": [],
   "source": [
    "def bigrams_analysis(bigrams):\n",
    "    n = len(bigrams)\n",
    "    bigrams_list = list(bigrams.items())\n",
    "    swapped = False\n",
    "    for i in range(n-1):\n",
    "        for j in range(0, n-i-1):\n",
    "            if bigrams_list[j][1] < bigrams_list[j + 1][1]:\n",
    "                swapped = True\n",
    "                bigrams_list[j], bigrams_list[j+1] = bigrams_list[j+1] , bigrams_list[j]         \n",
    "        if not swapped:\n",
    "            return\n",
    "    common_bigrams = []\n",
    "    common_bigrams_count = []\n",
    "    for i in range(10):\n",
    "        common_bigrams.append(str(bigrams_list[i][0]))\n",
    "        common_bigrams_count.append(bigrams_list[i][1])\n",
    "    \n",
    "    plt.bar(common_bigrams, common_bigrams_count, color = \"blue\" , width = 0.5)"
   ]
  },
  {
   "cell_type": "code",
   "execution_count": 163,
   "id": "ac852424",
   "metadata": {},
   "outputs": [],
   "source": [
    "def trigrams_analysis(trigrams):\n",
    "    n = len(trigrams)\n",
    "    trigrams_list = list(trigrams.items())\n",
    "    swapped = False\n",
    "    for i in range(n-1):\n",
    "        for j in range(0, n-i-1):\n",
    "            if trigrams_list[j][1] < trigrams_list[j + 1][1]:\n",
    "                swapped = True\n",
    "                trigrams_list[j], trigrams_list[j+1] = trigrams_list[j+1] , trigrams_list[j]         \n",
    "        if not swapped:\n",
    "            return\n",
    "    common_trigrams = []\n",
    "    common_trigrams_count = []\n",
    "    for i in range(10):\n",
    "        common_trigrams.append(str(trigrams_list[i][0]))\n",
    "        common_trigrams_count.append(trigrams_list[i][1])\n",
    "    \n",
    "    plt.bar(common_trigrams, common_trigrams_count, color = \"blue\" , width = 0.5)"
   ]
  },
  {
   "cell_type": "code",
   "execution_count": 165,
   "id": "5cff0533",
   "metadata": {},
   "outputs": [
    {
     "data": {
      "image/png": "[encoded data removed]",
      "text/plain": [
       "<Figure size 640x480 with 1 Axes>"
      ]
     },
     "metadata": {},
     "output_type": "display_data"
    }
   ],
   "source": [
    "bigrams_analysis(bigrams_count)"
   ]
  },
  {
   "cell_type": "code",
   "execution_count": 166,
   "id": "27e3cfee",
   "metadata": {},
   "outputs": [
    {
     "data": {
      "image/png": "[encoded data removed]",
      "text/plain": [
       "<Figure size 640x480 with 1 Axes>"
      ]
     },
     "metadata": {},
     "output_type": "display_data"
    }
   ],
   "source": [
    "trigrams_analysis(trigrams_count)"
   ]
  },
  {
   "cell_type": "code",
   "execution_count": 167,
   "id": "170714ff",
   "metadata": {},
   "outputs": [],
   "source": [
    "def word_cloud(final_text):\n",
    "    final_words=\" \".join(str(x) for x in final_text)\n",
    "    wc = WordCloud(background_color=\"white\",max_words=200,width=800, height=400).generate(final_words)\n",
    "    plt.imshow(wc, interpolation='bilinear')\n",
    "    plt.axis(\"off\")\n",
    "    plt.show()"
   ]
  },
  {
   "cell_type": "code",
   "execution_count": 168,
   "id": "5167debe",
   "metadata": {},
   "outputs": [
    {
     "data": {
      "image/png": "[encoded data removed]",
      "text/plain": [
       "<Figure size 640x480 with 1 Axes>"
      ]
     },
     "metadata": {},
     "output_type": "display_data"
    }
   ],
   "source": [
    "word_cloud(text)"
   ]
  },
  {
   "cell_type": "code",
   "execution_count": 171,
   "id": "c66465c7",
   "metadata": {},
   "outputs": [
    {
     "name": "stdout",
     "output_type": "stream",
     "text": [
      "Requirement already satisfied: scipy in /opt/anaconda3/lib/python3.9/site-packages (1.9.1)\r\n",
      "Requirement already satisfied: numpy<1.25.0,>=1.18.5 in /opt/anaconda3/lib/python3.9/site-packages (from scipy) (1.24.1)\r\n"
     ]
    }
   ],
   "source": [
    "!pip3 install scipy"
   ]
  },
  {
   "cell_type": "code",
   "execution_count": 173,
   "id": "5b175097",
   "metadata": {},
   "outputs": [
    {
     "data": {
      "application/vnd.jupyter.widget-view+json": {
       "model_id": "ece85d47fec242a2930ec8b1a27bf7e2",
       "version_major": 2,
       "version_minor": 0
      },
      "text/plain": [
       "Downloading:   0%|          | 0.00/747 [00:00<?, ?B/s]"
      ]
     },
     "metadata": {},
     "output_type": "display_data"
    },
    {
     "data": {
      "application/vnd.jupyter.widget-view+json": {
       "model_id": "519e9b1ceca2417f8c9fd92d04ad5259",
       "version_major": 2,
       "version_minor": 0
      },
      "text/plain": [
       "Downloading:   0%|          | 0.00/499M [00:00<?, ?B/s]"
      ]
     },
     "metadata": {},
     "output_type": "display_data"
    },
    {
     "data": {
      "application/vnd.jupyter.widget-view+json": {
       "model_id": "53873787c3d44ddcbd7f42bd6219f3b3",
       "version_major": 2,
       "version_minor": 0
      },
      "text/plain": [
       "Downloading:   0%|          | 0.00/899k [00:00<?, ?B/s]"
      ]
     },
     "metadata": {},
     "output_type": "display_data"
    },
    {
     "data": {
      "application/vnd.jupyter.widget-view+json": {
       "model_id": "6dc66a577dfb4f07a5222fad7b929124",
       "version_major": 2,
       "version_minor": 0
      },
      "text/plain": [
       "Downloading:   0%|          | 0.00/456k [00:00<?, ?B/s]"
      ]
     },
     "metadata": {},
     "output_type": "display_data"
    },
    {
     "data": {
      "application/vnd.jupyter.widget-view+json": {
       "model_id": "fa51d2244f0c44af96287471ed20c8f5",
       "version_major": 2,
       "version_minor": 0
      },
      "text/plain": [
       "Downloading:   0%|          | 0.00/150 [00:00<?, ?B/s]"
      ]
     },
     "metadata": {},
     "output_type": "display_data"
    }
   ],
   "source": [
    "roberta = \"cardiffnlp/twitter-roberta-base-sentiment\"\n",
    "\n",
    "model = AutoModelForSequenceClassification.from_pretrained(roberta)\n",
    "tokenizer = AutoTokenizer.from_pretrained(roberta)\n",
    "\n",
    "labels = ['Negative', 'Neutral', 'Positive']"
   ]
  },
  {
   "cell_type": "code",
   "execution_count": 195,
   "id": "68661edb",
   "metadata": {},
   "outputs": [],
   "source": [
    "sentiments_roberta = []\n",
    "for i in tweets_data[\"text\"]:\n",
    "    tweet = i\n",
    "    tweet = remove_links(tweet)\n",
    "    tweet = remove_specialwords(tweet)\n",
    "    encoded_tweet = tokenizer(tweet, return_tensors='pt')\n",
    "    output = model(**encoded_tweet)\n",
    "    scores = output[0][0].detach().numpy()\n",
    "    scores = softmax(scores)\n",
    "    negative = scores[0]\n",
    "    positive = scores[1]\n",
    "    neutral = scores[2]\n",
    "    label = \"\"\n",
    "    if negative > positive and negative > neutral:\n",
    "        label = \"negative\"\n",
    "    elif positive > negative and positive > neutral:\n",
    "        label = \"positive\"\n",
    "    elif neutral > positive and neutral > negative:\n",
    "        label = \"neutral\"\n",
    "    sentiments_roberta.append(label)\n",
    "    \n"
   ]
  },
  {
   "cell_type": "code",
   "execution_count": 196,
   "id": "8ba63336",
   "metadata": {},
   "outputs": [],
   "source": [
    "sentiments_textblob = []\n",
    "for i in tweets_data[\"text\"]:\n",
    "    tweet = i\n",
    "    tweet = remove_links(tweet)\n",
    "    tweet = remove_specialwords(tweet)\n",
    "    analysis = TextBlob(tweet)\n",
    "    \n",
    "    if analysis.sentiment[0]>0:\n",
    "        label = \"positive\"\n",
    "    elif analysis.sentiment[0]<0:\n",
    "        label = \"negative\"\n",
    "    else:\n",
    "        label = \"neutral\"\n",
    "    sentiments_textblob.append(label)"
   ]
  },
  {
   "cell_type": "code",
   "execution_count": 202,
   "id": "ba0d7c9d",
   "metadata": {},
   "outputs": [],
   "source": [
    "final_sentiments = []\n",
    "for i in range(len(sentiments_roberta)):\n",
    "    if sentiments_roberta[i] == sentiments_textblob[i]:\n",
    "        final_sentiments.append(sentiments_textblob[i])\n",
    "    else:\n",
    "        final_sentiments.append(sentiments_roberta[i])\n",
    "    "
   ]
  },
  {
   "cell_type": "code",
   "execution_count": 208,
   "id": "0fc2915f",
   "metadata": {},
   "outputs": [],
   "source": [
    "tweets_data.insert(12, \"Sentiment\" , final_sentiments ,True)"
   ]
  },
  {
   "cell_type": "code",
   "execution_count": 209,
   "id": "0a2a4437",
   "metadata": {},
   "outputs": [
    {
     "data": {
      "text/html": [
       "<div>\n",
       "<style scoped>\n",
       "    .dataframe tbody tr th:only-of-type {\n",
       "        vertical-align: middle;\n",
       "    }\n",
       "\n",
       "    .dataframe tbody tr th {\n",
       "        vertical-align: top;\n",
       "    }\n",
       "\n",
       "    .dataframe thead th {\n",
       "        text-align: right;\n",
       "    }\n",
       "</style>\n",
       "<table border=\"1\" class=\"dataframe\">\n",
       "  <thead>\n",
       "    <tr style=\"text-align: right;\">\n",
       "      <th></th>\n",
       "      <th>user_name</th>\n",
       "      <th>text</th>\n",
       "      <th>user_location</th>\n",
       "      <th>user_description</th>\n",
       "      <th>user_created</th>\n",
       "      <th>user_followers</th>\n",
       "      <th>user_friends</th>\n",
       "      <th>user_favourites</th>\n",
       "      <th>user_verified</th>\n",
       "      <th>date</th>\n",
       "      <th>hashtags</th>\n",
       "      <th>source</th>\n",
       "      <th>Sentiment</th>\n",
       "    </tr>\n",
       "  </thead>\n",
       "  <tbody>\n",
       "    <tr>\n",
       "      <th>0</th>\n",
       "      <td>Bohmle</td>\n",
       "      <td>#GPT4 for FREE. \n",
       "No its not a clickbait, @Qola...</td>\n",
       "      <td>Carkingga</td>\n",
       "      <td>&lt;NA&gt;</td>\n",
       "      <td>&lt;NA&gt;</td>\n",
       "      <td>&lt;NA&gt;</td>\n",
       "      <td>&lt;NA&gt;</td>\n",
       "      <td>&lt;NA&gt;</td>\n",
       "      <td>&lt;NA&gt;</td>\n",
       "      <td>&lt;NA&gt;</td>\n",
       "      <td>&lt;NA&gt;</td>\n",
       "      <td>&lt;NA&gt;</td>\n",
       "      <td>neutral</td>\n",
       "    </tr>\n",
       "    <tr>\n",
       "      <th>1</th>\n",
       "      <td>&lt;NA&gt;</td>\n",
       "      <td>AI enthusiast</td>\n",
       "      <td>2019-07-03 03:44:41+00:00</td>\n",
       "      <td>60.0</td>\n",
       "      <td>349.0</td>\n",
       "      <td>611</td>\n",
       "      <td>False</td>\n",
       "      <td>2023-05-17 18:11:12+00:00</td>\n",
       "      <td>['GPT4', 'ChatGPT4']</td>\n",
       "      <td>Twitter Web App</td>\n",
       "      <td>&lt;NA&gt;</td>\n",
       "      <td>&lt;NA&gt;</td>\n",
       "      <td>positive</td>\n",
       "    </tr>\n",
       "    <tr>\n",
       "      <th>2</th>\n",
       "      <td>Dan Bruno AI</td>\n",
       "      <td>ChatGPT Thinks These 5 Crypto Coins Will Explo...</td>\n",
       "      <td>Manchester, NH</td>\n",
       "      <td>The latest in #ChatGPT, #BARD, #Bing, and othe...</td>\n",
       "      <td>2021-05-19 01:19:32+00:00</td>\n",
       "      <td>470.0</td>\n",
       "      <td>157.0</td>\n",
       "      <td>5185</td>\n",
       "      <td>False</td>\n",
       "      <td>2023-05-17 18:11:03+00:00</td>\n",
       "      <td>['chatgpt', 'AI', 'openAI']</td>\n",
       "      <td>dlvr.it</td>\n",
       "      <td>neutral</td>\n",
       "    </tr>\n",
       "    <tr>\n",
       "      <th>3</th>\n",
       "      <td>Georgiana Comsa</td>\n",
       "      <td>New: @JWVance's post about 5 #startups (includ...</td>\n",
       "      <td>Palo Alto</td>\n",
       "      <td>Founder of Silicon Valley PR, award-winning PR...</td>\n",
       "      <td>2008-12-24 09:32:23+00:00</td>\n",
       "      <td>3864.0</td>\n",
       "      <td>1883.0</td>\n",
       "      <td>2415</td>\n",
       "      <td>False</td>\n",
       "      <td>2023-05-17 18:10:25+00:00</td>\n",
       "      <td>['startups', 'startup50']</td>\n",
       "      <td>Twitter Web App</td>\n",
       "      <td>neutral</td>\n",
       "    </tr>\n",
       "    <tr>\n",
       "      <th>4</th>\n",
       "      <td>Bitone Great</td>\n",
       "      <td>🚨Get Out!🚨\n",
       "💰#Binance Spot💰\n",
       "⬇ Recommendation: #...</td>\n",
       "      <td>Hong Kong</td>\n",
       "      <td>#ChatGPT (AI) powered Free Trading Signal! \n",
       "Le...</td>\n",
       "      <td>2022-11-21 04:42:18+00:00</td>\n",
       "      <td>1517.0</td>\n",
       "      <td>506.0</td>\n",
       "      <td>64</td>\n",
       "      <td>False</td>\n",
       "      <td>2023-05-17 18:09:39+00:00</td>\n",
       "      <td>['Binance', 'Short', 'GHSTUSDT']</td>\n",
       "      <td>rsi1</td>\n",
       "      <td>positive</td>\n",
       "    </tr>\n",
       "    <tr>\n",
       "      <th>...</th>\n",
       "      <td>...</td>\n",
       "      <td>...</td>\n",
       "      <td>...</td>\n",
       "      <td>...</td>\n",
       "      <td>...</td>\n",
       "      <td>...</td>\n",
       "      <td>...</td>\n",
       "      <td>...</td>\n",
       "      <td>...</td>\n",
       "      <td>...</td>\n",
       "      <td>...</td>\n",
       "      <td>...</td>\n",
       "      <td>...</td>\n",
       "    </tr>\n",
       "    <tr>\n",
       "      <th>495</th>\n",
       "      <td>O'Dwyer's PR News</td>\n",
       "      <td>#ChatGPT set off an endless stream of fear and...</td>\n",
       "      <td>New York, NY</td>\n",
       "      <td>The #1 news outlet for public relations, publi...</td>\n",
       "      <td>2009-02-25 15:50:27+00:00</td>\n",
       "      <td>15013.0</td>\n",
       "      <td>2876.0</td>\n",
       "      <td>1</td>\n",
       "      <td>False</td>\n",
       "      <td>2023-05-17 16:00:37+00:00</td>\n",
       "      <td>['ChatGPT']</td>\n",
       "      <td>Twitter Web App</td>\n",
       "      <td>negative</td>\n",
       "    </tr>\n",
       "    <tr>\n",
       "      <th>496</th>\n",
       "      <td>Tracy Krauss, #author #artist #playwright</td>\n",
       "      <td>ChatGPT is a hot topic; there is no doubt. It ...</td>\n",
       "      <td>British Columbia, Canada</td>\n",
       "      <td>I write modern Christian romance with a twist ...</td>\n",
       "      <td>2010-06-19 04:45:43+00:00</td>\n",
       "      <td>2718.0</td>\n",
       "      <td>1803.0</td>\n",
       "      <td>348</td>\n",
       "      <td>False</td>\n",
       "      <td>2023-05-17 16:00:37+00:00</td>\n",
       "      <td>&lt;NA&gt;</td>\n",
       "      <td>Hootsuite Inc.</td>\n",
       "      <td>neutral</td>\n",
       "    </tr>\n",
       "    <tr>\n",
       "      <th>497</th>\n",
       "      <td>Tom Solid</td>\n",
       "      <td>Exciting news! #chatGPT has launched its Plugi...</td>\n",
       "      <td>Germany</td>\n",
       "      <td>🚀✨ We help you to build your productivity syst...</td>\n",
       "      <td>2010-12-04 11:00:53+00:00</td>\n",
       "      <td>3460.0</td>\n",
       "      <td>332.0</td>\n",
       "      <td>4464</td>\n",
       "      <td>False</td>\n",
       "      <td>2023-05-17 16:00:30+00:00</td>\n",
       "      <td>['chatGPT']</td>\n",
       "      <td>Hootsuite Inc.</td>\n",
       "      <td>neutral</td>\n",
       "    </tr>\n",
       "    <tr>\n",
       "      <th>498</th>\n",
       "      <td>Tweeting Monk</td>\n",
       "      <td>@Oncrawl Agreed! The #ChatGPT is definitely th...</td>\n",
       "      <td>GET 30% OFF FOR 3 MONTHS</td>\n",
       "      <td>Set your Twitter account on auto-pilot and wat...</td>\n",
       "      <td>2022-03-30 10:35:13+00:00</td>\n",
       "      <td>50.0</td>\n",
       "      <td>111.0</td>\n",
       "      <td>64</td>\n",
       "      <td>False</td>\n",
       "      <td>2023-05-17 16:00:28+00:00</td>\n",
       "      <td>['ChatGPT']</td>\n",
       "      <td>TweetingMonk</td>\n",
       "      <td>neutral</td>\n",
       "    </tr>\n",
       "    <tr>\n",
       "      <th>499</th>\n",
       "      <td>ManTFupTV</td>\n",
       "      <td>Do you agree whatever is put on the internet d...</td>\n",
       "      <td>Fort Lauderdale, FL</td>\n",
       "      <td>ManTFUp Podcast 🎙\n",
       "Listen to Season 2 NOW! 🔥\n",
       "🏎 ...</td>\n",
       "      <td>2021-11-09 15:26:21+00:00</td>\n",
       "      <td>343.0</td>\n",
       "      <td>12.0</td>\n",
       "      <td>27</td>\n",
       "      <td>False</td>\n",
       "      <td>2023-05-17 16:00:26+00:00</td>\n",
       "      <td>&lt;NA&gt;</td>\n",
       "      <td>Buffer</td>\n",
       "      <td>positive</td>\n",
       "    </tr>\n",
       "  </tbody>\n",
       "</table>\n",
       "<p>496 rows × 13 columns</p>\n",
       "</div>"
      ],
      "text/plain": [
       "                                     user_name  \\\n",
       "0                                       Bohmle   \n",
       "1                                         <NA>   \n",
       "2                                 Dan Bruno AI   \n",
       "3                              Georgiana Comsa   \n",
       "4                                 Bitone Great   \n",
       "..                                         ...   \n",
       "495                          O'Dwyer's PR News   \n",
       "496  Tracy Krauss, #author #artist #playwright   \n",
       "497                                  Tom Solid   \n",
       "498                              Tweeting Monk   \n",
       "499                                  ManTFupTV   \n",
       "\n",
       "                                                  text  \\\n",
       "0    #GPT4 for FREE. \n",
       "No its not a clickbait, @Qola...   \n",
       "1                                        AI enthusiast   \n",
       "2    ChatGPT Thinks These 5 Crypto Coins Will Explo...   \n",
       "3    New: @JWVance's post about 5 #startups (includ...   \n",
       "4    🚨Get Out!🚨\n",
       "💰#Binance Spot💰\n",
       "⬇ Recommendation: #...   \n",
       "..                                                 ...   \n",
       "495  #ChatGPT set off an endless stream of fear and...   \n",
       "496  ChatGPT is a hot topic; there is no doubt. It ...   \n",
       "497  Exciting news! #chatGPT has launched its Plugi...   \n",
       "498  @Oncrawl Agreed! The #ChatGPT is definitely th...   \n",
       "499  Do you agree whatever is put on the internet d...   \n",
       "\n",
       "                 user_location  \\\n",
       "0                    Carkingga   \n",
       "1    2019-07-03 03:44:41+00:00   \n",
       "2               Manchester, NH   \n",
       "3                    Palo Alto   \n",
       "4                    Hong Kong   \n",
       "..                         ...   \n",
       "495               New York, NY   \n",
       "496   British Columbia, Canada   \n",
       "497                    Germany   \n",
       "498   GET 30% OFF FOR 3 MONTHS   \n",
       "499        Fort Lauderdale, FL   \n",
       "\n",
       "                                      user_description  \\\n",
       "0                                                 <NA>   \n",
       "1                                                 60.0   \n",
       "2    The latest in #ChatGPT, #BARD, #Bing, and othe...   \n",
       "3    Founder of Silicon Valley PR, award-winning PR...   \n",
       "4    #ChatGPT (AI) powered Free Trading Signal! \n",
       "Le...   \n",
       "..                                                 ...   \n",
       "495  The #1 news outlet for public relations, publi...   \n",
       "496  I write modern Christian romance with a twist ...   \n",
       "497  🚀✨ We help you to build your productivity syst...   \n",
       "498  Set your Twitter account on auto-pilot and wat...   \n",
       "499  ManTFUp Podcast 🎙\n",
       "Listen to Season 2 NOW! 🔥\n",
       "🏎 ...   \n",
       "\n",
       "                  user_created user_followers user_friends  \\\n",
       "0                         <NA>           <NA>         <NA>   \n",
       "1                        349.0            611        False   \n",
       "2    2021-05-19 01:19:32+00:00          470.0        157.0   \n",
       "3    2008-12-24 09:32:23+00:00         3864.0       1883.0   \n",
       "4    2022-11-21 04:42:18+00:00         1517.0        506.0   \n",
       "..                         ...            ...          ...   \n",
       "495  2009-02-25 15:50:27+00:00        15013.0       2876.0   \n",
       "496  2010-06-19 04:45:43+00:00         2718.0       1803.0   \n",
       "497  2010-12-04 11:00:53+00:00         3460.0        332.0   \n",
       "498  2022-03-30 10:35:13+00:00           50.0        111.0   \n",
       "499  2021-11-09 15:26:21+00:00          343.0         12.0   \n",
       "\n",
       "               user_favourites         user_verified  \\\n",
       "0                         <NA>                  <NA>   \n",
       "1    2023-05-17 18:11:12+00:00  ['GPT4', 'ChatGPT4']   \n",
       "2                         5185                 False   \n",
       "3                         2415                 False   \n",
       "4                           64                 False   \n",
       "..                         ...                   ...   \n",
       "495                          1                 False   \n",
       "496                        348                 False   \n",
       "497                       4464                 False   \n",
       "498                         64                 False   \n",
       "499                         27                 False   \n",
       "\n",
       "                          date                          hashtags  \\\n",
       "0                         <NA>                              <NA>   \n",
       "1              Twitter Web App                              <NA>   \n",
       "2    2023-05-17 18:11:03+00:00       ['chatgpt', 'AI', 'openAI']   \n",
       "3    2023-05-17 18:10:25+00:00         ['startups', 'startup50']   \n",
       "4    2023-05-17 18:09:39+00:00  ['Binance', 'Short', 'GHSTUSDT']   \n",
       "..                         ...                               ...   \n",
       "495  2023-05-17 16:00:37+00:00                       ['ChatGPT']   \n",
       "496  2023-05-17 16:00:37+00:00                              <NA>   \n",
       "497  2023-05-17 16:00:30+00:00                       ['chatGPT']   \n",
       "498  2023-05-17 16:00:28+00:00                       ['ChatGPT']   \n",
       "499  2023-05-17 16:00:26+00:00                              <NA>   \n",
       "\n",
       "              source Sentiment  \n",
       "0               <NA>   neutral  \n",
       "1               <NA>  positive  \n",
       "2            dlvr.it   neutral  \n",
       "3    Twitter Web App   neutral  \n",
       "4               rsi1  positive  \n",
       "..               ...       ...  \n",
       "495  Twitter Web App  negative  \n",
       "496   Hootsuite Inc.   neutral  \n",
       "497   Hootsuite Inc.   neutral  \n",
       "498     TweetingMonk   neutral  \n",
       "499           Buffer  positive  \n",
       "\n",
       "[496 rows x 13 columns]"
      ]
     },
     "execution_count": 209,
     "metadata": {},
     "output_type": "execute_result"
    }
   ],
   "source": [
    "tweets_data"
   ]
  },
  {
   "cell_type": "code",
   "execution_count": 211,
   "id": "27fa25ee",
   "metadata": {},
   "outputs": [
    {
     "name": "stdout",
     "output_type": "stream",
     "text": [
      "The total number of words are :  8318\n"
     ]
    }
   ],
   "source": [
    "count_words = len(tokens)\n",
    "print(\"The total number of words are : \" , count_words)"
   ]
  },
  {
   "cell_type": "code",
   "execution_count": 212,
   "id": "b31a2ce3",
   "metadata": {},
   "outputs": [],
   "source": [
    "def check_space(string):\n",
    "    count = 0\n",
    "    for i in range(0, len(string)):\n",
    "        if string[i] == \" \":\n",
    "            count += 1\n",
    "    return count"
   ]
  },
  {
   "cell_type": "code",
   "execution_count": 213,
   "id": "6f1568dd",
   "metadata": {},
   "outputs": [],
   "source": [
    "count_spaces = check_space(text)"
   ]
  },
  {
   "cell_type": "code",
   "execution_count": 214,
   "id": "a9641e3d",
   "metadata": {},
   "outputs": [
    {
     "name": "stdout",
     "output_type": "stream",
     "text": [
      "The total number of spaces are :  14471\n"
     ]
    }
   ],
   "source": [
    "print(\"The total number of spaces are : \" , count_spaces)"
   ]
  },
  {
   "cell_type": "code",
   "execution_count": 215,
   "id": "13b83fcd",
   "metadata": {},
   "outputs": [
    {
     "name": "stdout",
     "output_type": "stream",
     "text": [
      "The total number of characters are :  95109\n"
     ]
    }
   ],
   "source": [
    "count_characters = len(text)\n",
    "print(\"The total number of characters are : \" , count_characters)"
   ]
  },
  {
   "cell_type": "code",
   "execution_count": 219,
   "id": "bcf0e7b9",
   "metadata": {},
   "outputs": [],
   "source": [
    "def verb_finder(tokens):\n",
    "    tokens_tagges = pos_tag(tokens)\n",
    "    verb_count = 0\n",
    "    for tagged_token in tokens_tagged:\n",
    "        if tagged_token[1] == 'VB' or tagged_token[1] == 'VBD' or tagged_token[1] == 'VBG' or tagged_token[1] == 'VBN' or tagged_token[1] == 'VBP' or tagged_token[1] == 'VBZ':\n",
    "            verb_count +=1\n",
    "    return verb_count"
   ]
  },
  {
   "cell_type": "code",
   "execution_count": 220,
   "id": "aa372bab",
   "metadata": {},
   "outputs": [
    {
     "name": "stdout",
     "output_type": "stream",
     "text": [
      "The total number of verbs are :  986\n"
     ]
    }
   ],
   "source": [
    "count_verbs = verb_finder(tokens)\n",
    "print(\"The total number of verbs are : \" , count_verbs)"
   ]
  },
  {
   "cell_type": "code",
   "execution_count": 230,
   "id": "0ce51a7a",
   "metadata": {},
   "outputs": [],
   "source": [
    "def starts_with_nameletter(tokens):\n",
    "    count = 0\n",
    "    for item in tokens:\n",
    "        if item.startswith(\"A\") or item.startswith(\"a\"):\n",
    "            count += 1\n",
    "    return count"
   ]
  },
  {
   "cell_type": "code",
   "execution_count": 232,
   "id": "20e58721",
   "metadata": {},
   "outputs": [
    {
     "name": "stdout",
     "output_type": "stream",
     "text": [
      "The total number of words starting with A/a are :  840\n"
     ]
    }
   ],
   "source": [
    "count_A = starts_with_nameletter(tokens)\n",
    "print(\"The total number of words starting with A/a are : \", count_A)"
   ]
  },
  {
   "cell_type": "code",
   "execution_count": 234,
   "id": "46953e23",
   "metadata": {},
   "outputs": [],
   "source": [
    "sent_tokens = sent_tokenize(text)"
   ]
  },
  {
   "cell_type": "code",
   "execution_count": 235,
   "id": "dc99f556",
   "metadata": {},
   "outputs": [
    {
     "name": "stdout",
     "output_type": "stream",
     "text": [
      "The total number of sentence tokens are :  366\n"
     ]
    }
   ],
   "source": [
    "count_sentence_tokens = len(sent_tokens)\n",
    "print(\"The total number of sentence tokens are : \" , count_sentence_tokens)"
   ]
  },
  {
   "cell_type": "code",
   "execution_count": 236,
   "id": "3b8823ee",
   "metadata": {},
   "outputs": [
    {
     "name": "stdout",
     "output_type": "stream",
     "text": [
      "The total number of special characters are :  1055\n"
     ]
    }
   ],
   "source": [
    "specialCharCount = 0\n",
    "for char in text:\n",
    "    if not (char.isalnum() or char.isspace()):\n",
    "        specialCharCount += 1\n",
    "print(\"The total number of special characters are : \" , specialCharCount)"
   ]
  },
  {
   "cell_type": "code",
   "execution_count": 237,
   "id": "1907d777",
   "metadata": {},
   "outputs": [],
   "source": [
    "data = [count_sentence_tokens, count_words, count_spaces, count_characters, count_verbs, count_A, specialCharCount]"
   ]
  },
  {
   "cell_type": "code",
   "execution_count": 238,
   "id": "5d6de18a",
   "metadata": {},
   "outputs": [],
   "source": [
    "features_list = [\"sentence length\" , \"word count\" , \"space count\" , \"char count\" , \"verb count\" , \"name count\" , \"special char count\"]"
   ]
  },
  {
   "cell_type": "code",
   "execution_count": 240,
   "id": "96dc1c30",
   "metadata": {},
   "outputs": [],
   "source": [
    "data_ = {\n",
    "    \"Features\" : features_list,\n",
    "    \"Count\" : data\n",
    "}"
   ]
  },
  {
   "cell_type": "code",
   "execution_count": 243,
   "id": "4e80afa0",
   "metadata": {},
   "outputs": [],
   "source": [
    "features = pd.DataFrame(data_)"
   ]
  },
  {
   "cell_type": "code",
   "execution_count": 244,
   "id": "7ab3cb23",
   "metadata": {},
   "outputs": [
    {
     "data": {
      "text/html": [
       "<div>\n",
       "<style scoped>\n",
       "    .dataframe tbody tr th:only-of-type {\n",
       "        vertical-align: middle;\n",
       "    }\n",
       "\n",
       "    .dataframe tbody tr th {\n",
       "        vertical-align: top;\n",
       "    }\n",
       "\n",
       "    .dataframe thead th {\n",
       "        text-align: right;\n",
       "    }\n",
       "</style>\n",
       "<table border=\"1\" class=\"dataframe\">\n",
       "  <thead>\n",
       "    <tr style=\"text-align: right;\">\n",
       "      <th></th>\n",
       "      <th>Features</th>\n",
       "      <th>Count</th>\n",
       "    </tr>\n",
       "  </thead>\n",
       "  <tbody>\n",
       "    <tr>\n",
       "      <th>0</th>\n",
       "      <td>sentence length</td>\n",
       "      <td>366</td>\n",
       "    </tr>\n",
       "    <tr>\n",
       "      <th>1</th>\n",
       "      <td>word count</td>\n",
       "      <td>8318</td>\n",
       "    </tr>\n",
       "    <tr>\n",
       "      <th>2</th>\n",
       "      <td>space count</td>\n",
       "      <td>14471</td>\n",
       "    </tr>\n",
       "    <tr>\n",
       "      <th>3</th>\n",
       "      <td>char count</td>\n",
       "      <td>95109</td>\n",
       "    </tr>\n",
       "    <tr>\n",
       "      <th>4</th>\n",
       "      <td>verb count</td>\n",
       "      <td>986</td>\n",
       "    </tr>\n",
       "    <tr>\n",
       "      <th>5</th>\n",
       "      <td>name count</td>\n",
       "      <td>840</td>\n",
       "    </tr>\n",
       "    <tr>\n",
       "      <th>6</th>\n",
       "      <td>special char count</td>\n",
       "      <td>1055</td>\n",
       "    </tr>\n",
       "  </tbody>\n",
       "</table>\n",
       "</div>"
      ],
      "text/plain": [
       "             Features  Count\n",
       "0     sentence length    366\n",
       "1          word count   8318\n",
       "2         space count  14471\n",
       "3          char count  95109\n",
       "4          verb count    986\n",
       "5          name count    840\n",
       "6  special char count   1055"
      ]
     },
     "execution_count": 244,
     "metadata": {},
     "output_type": "execute_result"
    }
   ],
   "source": [
    "features"
   ]
  },
  {
   "cell_type": "code",
   "execution_count": 246,
   "id": "d76e2cd0",
   "metadata": {},
   "outputs": [],
   "source": [
    "tfIdf_vectorizer = TfidfVectorizer()"
   ]
  },
  {
   "cell_type": "code",
   "execution_count": 248,
   "id": "f53530fd",
   "metadata": {},
   "outputs": [
    {
     "data": {
      "text/html": [
       "<style>#sk-container-id-1 {color: black;background-color: white;}#sk-container-id-1 pre{padding: 0;}#sk-container-id-1 div.sk-toggleable {background-color: white;}#sk-container-id-1 label.sk-toggleable__label {cursor: pointer;display: block;width: 100%;margin-bottom: 0;padding: 0.3em;box-sizing: border-box;text-align: center;}#sk-container-id-1 label.sk-toggleable__label-arrow:before {content: \"▸\";float: left;margin-right: 0.25em;color: #696969;}#sk-container-id-1 label.sk-toggleable__label-arrow:hover:before {color: black;}#sk-container-id-1 div.sk-estimator:hover label.sk-toggleable__label-arrow:before {color: black;}#sk-container-id-1 div.sk-toggleable__content {max-height: 0;max-width: 0;overflow: hidden;text-align: left;background-color: #f0f8ff;}#sk-container-id-1 div.sk-toggleable__content pre {margin: 0.2em;color: black;border-radius: 0.25em;background-color: #f0f8ff;}#sk-container-id-1 input.sk-toggleable__control:checked~div.sk-toggleable__content {max-height: 200px;max-width: 100%;overflow: auto;}#sk-container-id-1 input.sk-toggleable__control:checked~label.sk-toggleable__label-arrow:before {content: \"▾\";}#sk-container-id-1 div.sk-estimator input.sk-toggleable__control:checked~label.sk-toggleable__label {background-color: #d4ebff;}#sk-container-id-1 div.sk-label input.sk-toggleable__control:checked~label.sk-toggleable__label {background-color: #d4ebff;}#sk-container-id-1 input.sk-hidden--visually {border: 0;clip: rect(1px 1px 1px 1px);clip: rect(1px, 1px, 1px, 1px);height: 1px;margin: -1px;overflow: hidden;padding: 0;position: absolute;width: 1px;}#sk-container-id-1 div.sk-estimator {font-family: monospace;background-color: #f0f8ff;border: 1px dotted black;border-radius: 0.25em;box-sizing: border-box;margin-bottom: 0.5em;}#sk-container-id-1 div.sk-estimator:hover {background-color: #d4ebff;}#sk-container-id-1 div.sk-parallel-item::after {content: \"\";width: 100%;border-bottom: 1px solid gray;flex-grow: 1;}#sk-container-id-1 div.sk-label:hover label.sk-toggleable__label {background-color: #d4ebff;}#sk-container-id-1 div.sk-serial::before {content: \"\";position: absolute;border-left: 1px solid gray;box-sizing: border-box;top: 0;bottom: 0;left: 50%;z-index: 0;}#sk-container-id-1 div.sk-serial {display: flex;flex-direction: column;align-items: center;background-color: white;padding-right: 0.2em;padding-left: 0.2em;position: relative;}#sk-container-id-1 div.sk-item {position: relative;z-index: 1;}#sk-container-id-1 div.sk-parallel {display: flex;align-items: stretch;justify-content: center;background-color: white;position: relative;}#sk-container-id-1 div.sk-item::before, #sk-container-id-1 div.sk-parallel-item::before {content: \"\";position: absolute;border-left: 1px solid gray;box-sizing: border-box;top: 0;bottom: 0;left: 50%;z-index: -1;}#sk-container-id-1 div.sk-parallel-item {display: flex;flex-direction: column;z-index: 1;position: relative;background-color: white;}#sk-container-id-1 div.sk-parallel-item:first-child::after {align-self: flex-end;width: 50%;}#sk-container-id-1 div.sk-parallel-item:last-child::after {align-self: flex-start;width: 50%;}#sk-container-id-1 div.sk-parallel-item:only-child::after {width: 0;}#sk-container-id-1 div.sk-dashed-wrapped {border: 1px dashed gray;margin: 0 0.4em 0.5em 0.4em;box-sizing: border-box;padding-bottom: 0.4em;background-color: white;}#sk-container-id-1 div.sk-label label {font-family: monospace;font-weight: bold;display: inline-block;line-height: 1.2em;}#sk-container-id-1 div.sk-label-container {text-align: center;}#sk-container-id-1 div.sk-container {/* jupyter's `normalize.less` sets `[hidden] { display: none; }` but bootstrap.min.css set `[hidden] { display: none !important; }` so we also need the `!important` here to be able to override the default hidden behavior on the sphinx rendered scikit-learn.org. See: https://github.com/scikit-learn/scikit-learn/issues/21755 */display: inline-block !important;position: relative;}#sk-container-id-1 div.sk-text-repr-fallback {display: none;}</style><div id=\"sk-container-id-1\" class=\"sk-top-container\"><div class=\"sk-text-repr-fallback\"><pre>TfidfVectorizer()</pre><b>In a Jupyter environment, please rerun this cell to show the HTML representation or trust the notebook. <br />On GitHub, the HTML representation is unable to render, please try loading this page with nbviewer.org.</b></div><div class=\"sk-container\" hidden><div class=\"sk-item\"><div class=\"sk-estimator sk-toggleable\"><input class=\"sk-toggleable__control sk-hidden--visually\" id=\"sk-estimator-id-1\" type=\"checkbox\" checked><label for=\"sk-estimator-id-1\" class=\"sk-toggleable__label sk-toggleable__label-arrow\">TfidfVectorizer</label><div class=\"sk-toggleable__content\"><pre>TfidfVectorizer()</pre></div></div></div></div></div>"
      ],
      "text/plain": [
       "TfidfVectorizer()"
      ]
     },
     "execution_count": 248,
     "metadata": {},
     "output_type": "execute_result"
    }
   ],
   "source": [
    "tfIdf_vectorizer.fit(tweets_data[\"text\"])"
   ]
  },
  {
   "cell_type": "code",
   "execution_count": 249,
   "id": "010b3efb",
   "metadata": {},
   "outputs": [],
   "source": [
    "tfIdf_vector = tfIdf_vectorizer.transform(tweets_data['text'])"
   ]
  },
  {
   "cell_type": "code",
   "execution_count": 252,
   "id": "1ff5bd68",
   "metadata": {},
   "outputs": [],
   "source": [
    "count_vectorizer = CountVectorizer()"
   ]
  },
  {
   "cell_type": "code",
   "execution_count": 253,
   "id": "35c4d5eb",
   "metadata": {},
   "outputs": [
    {
     "data": {
      "text/html": [
       "<style>#sk-container-id-2 {color: black;background-color: white;}#sk-container-id-2 pre{padding: 0;}#sk-container-id-2 div.sk-toggleable {background-color: white;}#sk-container-id-2 label.sk-toggleable__label {cursor: pointer;display: block;width: 100%;margin-bottom: 0;padding: 0.3em;box-sizing: border-box;text-align: center;}#sk-container-id-2 label.sk-toggleable__label-arrow:before {content: \"▸\";float: left;margin-right: 0.25em;color: #696969;}#sk-container-id-2 label.sk-toggleable__label-arrow:hover:before {color: black;}#sk-container-id-2 div.sk-estimator:hover label.sk-toggleable__label-arrow:before {color: black;}#sk-container-id-2 div.sk-toggleable__content {max-height: 0;max-width: 0;overflow: hidden;text-align: left;background-color: #f0f8ff;}#sk-container-id-2 div.sk-toggleable__content pre {margin: 0.2em;color: black;border-radius: 0.25em;background-color: #f0f8ff;}#sk-container-id-2 input.sk-toggleable__control:checked~div.sk-toggleable__content {max-height: 200px;max-width: 100%;overflow: auto;}#sk-container-id-2 input.sk-toggleable__control:checked~label.sk-toggleable__label-arrow:before {content: \"▾\";}#sk-container-id-2 div.sk-estimator input.sk-toggleable__control:checked~label.sk-toggleable__label {background-color: #d4ebff;}#sk-container-id-2 div.sk-label input.sk-toggleable__control:checked~label.sk-toggleable__label {background-color: #d4ebff;}#sk-container-id-2 input.sk-hidden--visually {border: 0;clip: rect(1px 1px 1px 1px);clip: rect(1px, 1px, 1px, 1px);height: 1px;margin: -1px;overflow: hidden;padding: 0;position: absolute;width: 1px;}#sk-container-id-2 div.sk-estimator {font-family: monospace;background-color: #f0f8ff;border: 1px dotted black;border-radius: 0.25em;box-sizing: border-box;margin-bottom: 0.5em;}#sk-container-id-2 div.sk-estimator:hover {background-color: #d4ebff;}#sk-container-id-2 div.sk-parallel-item::after {content: \"\";width: 100%;border-bottom: 1px solid gray;flex-grow: 1;}#sk-container-id-2 div.sk-label:hover label.sk-toggleable__label {background-color: #d4ebff;}#sk-container-id-2 div.sk-serial::before {content: \"\";position: absolute;border-left: 1px solid gray;box-sizing: border-box;top: 0;bottom: 0;left: 50%;z-index: 0;}#sk-container-id-2 div.sk-serial {display: flex;flex-direction: column;align-items: center;background-color: white;padding-right: 0.2em;padding-left: 0.2em;position: relative;}#sk-container-id-2 div.sk-item {position: relative;z-index: 1;}#sk-container-id-2 div.sk-parallel {display: flex;align-items: stretch;justify-content: center;background-color: white;position: relative;}#sk-container-id-2 div.sk-item::before, #sk-container-id-2 div.sk-parallel-item::before {content: \"\";position: absolute;border-left: 1px solid gray;box-sizing: border-box;top: 0;bottom: 0;left: 50%;z-index: -1;}#sk-container-id-2 div.sk-parallel-item {display: flex;flex-direction: column;z-index: 1;position: relative;background-color: white;}#sk-container-id-2 div.sk-parallel-item:first-child::after {align-self: flex-end;width: 50%;}#sk-container-id-2 div.sk-parallel-item:last-child::after {align-self: flex-start;width: 50%;}#sk-container-id-2 div.sk-parallel-item:only-child::after {width: 0;}#sk-container-id-2 div.sk-dashed-wrapped {border: 1px dashed gray;margin: 0 0.4em 0.5em 0.4em;box-sizing: border-box;padding-bottom: 0.4em;background-color: white;}#sk-container-id-2 div.sk-label label {font-family: monospace;font-weight: bold;display: inline-block;line-height: 1.2em;}#sk-container-id-2 div.sk-label-container {text-align: center;}#sk-container-id-2 div.sk-container {/* jupyter's `normalize.less` sets `[hidden] { display: none; }` but bootstrap.min.css set `[hidden] { display: none !important; }` so we also need the `!important` here to be able to override the default hidden behavior on the sphinx rendered scikit-learn.org. See: https://github.com/scikit-learn/scikit-learn/issues/21755 */display: inline-block !important;position: relative;}#sk-container-id-2 div.sk-text-repr-fallback {display: none;}</style><div id=\"sk-container-id-2\" class=\"sk-top-container\"><div class=\"sk-text-repr-fallback\"><pre>CountVectorizer()</pre><b>In a Jupyter environment, please rerun this cell to show the HTML representation or trust the notebook. <br />On GitHub, the HTML representation is unable to render, please try loading this page with nbviewer.org.</b></div><div class=\"sk-container\" hidden><div class=\"sk-item\"><div class=\"sk-estimator sk-toggleable\"><input class=\"sk-toggleable__control sk-hidden--visually\" id=\"sk-estimator-id-2\" type=\"checkbox\" checked><label for=\"sk-estimator-id-2\" class=\"sk-toggleable__label sk-toggleable__label-arrow\">CountVectorizer</label><div class=\"sk-toggleable__content\"><pre>CountVectorizer()</pre></div></div></div></div></div>"
      ],
      "text/plain": [
       "CountVectorizer()"
      ]
     },
     "execution_count": 253,
     "metadata": {},
     "output_type": "execute_result"
    }
   ],
   "source": [
    "count_vectorizer.fit(tweets_data[\"text\"])"
   ]
  },
  {
   "cell_type": "code",
   "execution_count": 254,
   "id": "ebd8bf90",
   "metadata": {},
   "outputs": [],
   "source": [
    "count_vector = count_vectorizer.transform(tweets_data[\"text\"])"
   ]
  },
  {
   "cell_type": "code",
   "execution_count": 255,
   "id": "4b865d72",
   "metadata": {},
   "outputs": [
    {
     "name": "stdout",
     "output_type": "stream",
     "text": [
      "[[0 0 0 ... 0 0 0]\n",
      " [0 0 0 ... 0 0 0]\n",
      " [0 0 0 ... 0 0 0]\n",
      " ...\n",
      " [0 0 0 ... 0 0 0]\n",
      " [0 0 0 ... 0 0 0]\n",
      " [0 0 0 ... 0 0 0]]\n"
     ]
    }
   ],
   "source": [
    "print(count_vector.toarray())"
   ]
  },
  {
   "cell_type": "code",
   "execution_count": 258,
   "id": "3c9b1aa8",
   "metadata": {},
   "outputs": [],
   "source": [
    "w2v_model = Word2Vec(tweets_data[\"text\"])"
   ]
  },
  {
   "cell_type": "code",
   "execution_count": null,
   "id": "f038ba10",
   "metadata": {},
   "outputs": [],
   "source": []
  },
  {
   "cell_type": "code",
   "execution_count": 268,
   "id": "016a2570",
   "metadata": {},
   "outputs": [],
   "source": [
    "feature_extraction = tweets_data.copy()"
   ]
  },
  {
   "cell_type": "code",
   "execution_count": 274,
   "id": "48933d9f",
   "metadata": {},
   "outputs": [],
   "source": [
    "feature_extraction = feature_extraction.dropna()"
   ]
  },
  {
   "cell_type": "code",
   "execution_count": 275,
   "id": "3dade1c8",
   "metadata": {},
   "outputs": [
    {
     "data": {
      "text/html": [
       "<div>\n",
       "<style scoped>\n",
       "    .dataframe tbody tr th:only-of-type {\n",
       "        vertical-align: middle;\n",
       "    }\n",
       "\n",
       "    .dataframe tbody tr th {\n",
       "        vertical-align: top;\n",
       "    }\n",
       "\n",
       "    .dataframe thead th {\n",
       "        text-align: right;\n",
       "    }\n",
       "</style>\n",
       "<table border=\"1\" class=\"dataframe\">\n",
       "  <thead>\n",
       "    <tr style=\"text-align: right;\">\n",
       "      <th></th>\n",
       "      <th>user_name</th>\n",
       "      <th>text</th>\n",
       "      <th>user_location</th>\n",
       "      <th>user_description</th>\n",
       "      <th>user_created</th>\n",
       "      <th>user_followers</th>\n",
       "      <th>user_friends</th>\n",
       "      <th>user_favourites</th>\n",
       "      <th>user_verified</th>\n",
       "      <th>date</th>\n",
       "      <th>hashtags</th>\n",
       "      <th>source</th>\n",
       "      <th>Sentiment</th>\n",
       "    </tr>\n",
       "  </thead>\n",
       "  <tbody>\n",
       "    <tr>\n",
       "      <th>2</th>\n",
       "      <td>Dan Bruno AI</td>\n",
       "      <td>ChatGPT Thinks These 5 Crypto Coins Will Explo...</td>\n",
       "      <td>Manchester, NH</td>\n",
       "      <td>The latest in #ChatGPT, #BARD, #Bing, and othe...</td>\n",
       "      <td>2021-05-19 01:19:32+00:00</td>\n",
       "      <td>470.0</td>\n",
       "      <td>157.0</td>\n",
       "      <td>5185</td>\n",
       "      <td>False</td>\n",
       "      <td>2023-05-17 18:11:03+00:00</td>\n",
       "      <td>['chatgpt', 'AI', 'openAI']</td>\n",
       "      <td>dlvr.it</td>\n",
       "      <td>neutral</td>\n",
       "    </tr>\n",
       "    <tr>\n",
       "      <th>3</th>\n",
       "      <td>Georgiana Comsa</td>\n",
       "      <td>New: @JWVance's post about 5 #startups (includ...</td>\n",
       "      <td>Palo Alto</td>\n",
       "      <td>Founder of Silicon Valley PR, award-winning PR...</td>\n",
       "      <td>2008-12-24 09:32:23+00:00</td>\n",
       "      <td>3864.0</td>\n",
       "      <td>1883.0</td>\n",
       "      <td>2415</td>\n",
       "      <td>False</td>\n",
       "      <td>2023-05-17 18:10:25+00:00</td>\n",
       "      <td>['startups', 'startup50']</td>\n",
       "      <td>Twitter Web App</td>\n",
       "      <td>neutral</td>\n",
       "    </tr>\n",
       "    <tr>\n",
       "      <th>4</th>\n",
       "      <td>Bitone Great</td>\n",
       "      <td>🚨Get Out!🚨\n",
       "💰#Binance Spot💰\n",
       "⬇ Recommendation: #...</td>\n",
       "      <td>Hong Kong</td>\n",
       "      <td>#ChatGPT (AI) powered Free Trading Signal! \n",
       "Le...</td>\n",
       "      <td>2022-11-21 04:42:18+00:00</td>\n",
       "      <td>1517.0</td>\n",
       "      <td>506.0</td>\n",
       "      <td>64</td>\n",
       "      <td>False</td>\n",
       "      <td>2023-05-17 18:09:39+00:00</td>\n",
       "      <td>['Binance', 'Short', 'GHSTUSDT']</td>\n",
       "      <td>rsi1</td>\n",
       "      <td>positive</td>\n",
       "    </tr>\n",
       "    <tr>\n",
       "      <th>6</th>\n",
       "      <td>ScrapeLogo: acquired by RiteKit in 2015</td>\n",
       "      <td>Video : Show a company's logo based on the web...</td>\n",
       "      <td>Prague, Czech Republic</td>\n",
       "      <td>Test RiteKit #RESTAPI solutions in demo page. ...</td>\n",
       "      <td>2015-01-31 04:13:07+00:00</td>\n",
       "      <td>176.0</td>\n",
       "      <td>54.0</td>\n",
       "      <td>274</td>\n",
       "      <td>False</td>\n",
       "      <td>2023-05-17 18:09:04+00:00</td>\n",
       "      <td>['Short']</td>\n",
       "      <td>RiteKit App</td>\n",
       "      <td>positive</td>\n",
       "    </tr>\n",
       "    <tr>\n",
       "      <th>7</th>\n",
       "      <td>vigilance.eth™️ 0x676D | 🇨🇦🇮🇪🇬🇧🇨🇵</td>\n",
       "      <td>I just used my #CerberusGPT HologeneticsLab an...</td>\n",
       "      <td>London, ON</td>\n",
       "      <td>🇨🇦 #blockchain #ai #ChatGPT #promptcraft 🤖wiza...</td>\n",
       "      <td>2021-01-30 21:03:36+00:00</td>\n",
       "      <td>123.0</td>\n",
       "      <td>299.0</td>\n",
       "      <td>8938</td>\n",
       "      <td>False</td>\n",
       "      <td>2023-05-17 18:09:00+00:00</td>\n",
       "      <td>['CerberusGPT']</td>\n",
       "      <td>Twitter Web App</td>\n",
       "      <td>positive</td>\n",
       "    </tr>\n",
       "    <tr>\n",
       "      <th>...</th>\n",
       "      <td>...</td>\n",
       "      <td>...</td>\n",
       "      <td>...</td>\n",
       "      <td>...</td>\n",
       "      <td>...</td>\n",
       "      <td>...</td>\n",
       "      <td>...</td>\n",
       "      <td>...</td>\n",
       "      <td>...</td>\n",
       "      <td>...</td>\n",
       "      <td>...</td>\n",
       "      <td>...</td>\n",
       "      <td>...</td>\n",
       "    </tr>\n",
       "    <tr>\n",
       "      <th>493</th>\n",
       "      <td>Kristina Lucrezia Cornèr</td>\n",
       "      <td>am i that lucky, or #chatGPT constantly makes ...</td>\n",
       "      <td>Veneto, Italy</td>\n",
       "      <td>See beyond, question more, believe in impossib...</td>\n",
       "      <td>2018-02-12 12:17:29+00:00</td>\n",
       "      <td>3028.0</td>\n",
       "      <td>483.0</td>\n",
       "      <td>1103</td>\n",
       "      <td>False</td>\n",
       "      <td>2023-05-17 16:00:54+00:00</td>\n",
       "      <td>['chatGPT']</td>\n",
       "      <td>Twitter Web App</td>\n",
       "      <td>negative</td>\n",
       "    </tr>\n",
       "    <tr>\n",
       "      <th>494</th>\n",
       "      <td>Janice Portal | AI Enthusiast | Virtual Assistant</td>\n",
       "      <td>Hi everyone, just want to share again my AI-ge...</td>\n",
       "      <td>Boracay, Philippines</td>\n",
       "      <td>Part-time Freelancer, Crypto &amp; AI Enthusiast, ...</td>\n",
       "      <td>2023-03-07 16:18:50+00:00</td>\n",
       "      <td>14.0</td>\n",
       "      <td>74.0</td>\n",
       "      <td>33</td>\n",
       "      <td>False</td>\n",
       "      <td>2023-05-17 16:00:40+00:00</td>\n",
       "      <td>['ChatGPT', 'OPENAI']</td>\n",
       "      <td>Twitter Web App</td>\n",
       "      <td>positive</td>\n",
       "    </tr>\n",
       "    <tr>\n",
       "      <th>495</th>\n",
       "      <td>O'Dwyer's PR News</td>\n",
       "      <td>#ChatGPT set off an endless stream of fear and...</td>\n",
       "      <td>New York, NY</td>\n",
       "      <td>The #1 news outlet for public relations, publi...</td>\n",
       "      <td>2009-02-25 15:50:27+00:00</td>\n",
       "      <td>15013.0</td>\n",
       "      <td>2876.0</td>\n",
       "      <td>1</td>\n",
       "      <td>False</td>\n",
       "      <td>2023-05-17 16:00:37+00:00</td>\n",
       "      <td>['ChatGPT']</td>\n",
       "      <td>Twitter Web App</td>\n",
       "      <td>negative</td>\n",
       "    </tr>\n",
       "    <tr>\n",
       "      <th>497</th>\n",
       "      <td>Tom Solid</td>\n",
       "      <td>Exciting news! #chatGPT has launched its Plugi...</td>\n",
       "      <td>Germany</td>\n",
       "      <td>🚀✨ We help you to build your productivity syst...</td>\n",
       "      <td>2010-12-04 11:00:53+00:00</td>\n",
       "      <td>3460.0</td>\n",
       "      <td>332.0</td>\n",
       "      <td>4464</td>\n",
       "      <td>False</td>\n",
       "      <td>2023-05-17 16:00:30+00:00</td>\n",
       "      <td>['chatGPT']</td>\n",
       "      <td>Hootsuite Inc.</td>\n",
       "      <td>neutral</td>\n",
       "    </tr>\n",
       "    <tr>\n",
       "      <th>498</th>\n",
       "      <td>Tweeting Monk</td>\n",
       "      <td>@Oncrawl Agreed! The #ChatGPT is definitely th...</td>\n",
       "      <td>GET 30% OFF FOR 3 MONTHS</td>\n",
       "      <td>Set your Twitter account on auto-pilot and wat...</td>\n",
       "      <td>2022-03-30 10:35:13+00:00</td>\n",
       "      <td>50.0</td>\n",
       "      <td>111.0</td>\n",
       "      <td>64</td>\n",
       "      <td>False</td>\n",
       "      <td>2023-05-17 16:00:28+00:00</td>\n",
       "      <td>['ChatGPT']</td>\n",
       "      <td>TweetingMonk</td>\n",
       "      <td>neutral</td>\n",
       "    </tr>\n",
       "  </tbody>\n",
       "</table>\n",
       "<p>270 rows × 13 columns</p>\n",
       "</div>"
      ],
      "text/plain": [
       "                                             user_name  \\\n",
       "2                                         Dan Bruno AI   \n",
       "3                                      Georgiana Comsa   \n",
       "4                                         Bitone Great   \n",
       "6              ScrapeLogo: acquired by RiteKit in 2015   \n",
       "7                    vigilance.eth™️ 0x676D | 🇨🇦🇮🇪🇬🇧🇨🇵   \n",
       "..                                                 ...   \n",
       "493                           Kristina Lucrezia Cornèr   \n",
       "494  Janice Portal | AI Enthusiast | Virtual Assistant   \n",
       "495                                  O'Dwyer's PR News   \n",
       "497                                          Tom Solid   \n",
       "498                                      Tweeting Monk   \n",
       "\n",
       "                                                  text  \\\n",
       "2    ChatGPT Thinks These 5 Crypto Coins Will Explo...   \n",
       "3    New: @JWVance's post about 5 #startups (includ...   \n",
       "4    🚨Get Out!🚨\n",
       "💰#Binance Spot💰\n",
       "⬇ Recommendation: #...   \n",
       "6    Video : Show a company's logo based on the web...   \n",
       "7    I just used my #CerberusGPT HologeneticsLab an...   \n",
       "..                                                 ...   \n",
       "493  am i that lucky, or #chatGPT constantly makes ...   \n",
       "494  Hi everyone, just want to share again my AI-ge...   \n",
       "495  #ChatGPT set off an endless stream of fear and...   \n",
       "497  Exciting news! #chatGPT has launched its Plugi...   \n",
       "498  @Oncrawl Agreed! The #ChatGPT is definitely th...   \n",
       "\n",
       "                user_location  \\\n",
       "2              Manchester, NH   \n",
       "3                   Palo Alto   \n",
       "4                   Hong Kong   \n",
       "6      Prague, Czech Republic   \n",
       "7                  London, ON   \n",
       "..                        ...   \n",
       "493             Veneto, Italy   \n",
       "494      Boracay, Philippines   \n",
       "495              New York, NY   \n",
       "497                   Germany   \n",
       "498  GET 30% OFF FOR 3 MONTHS   \n",
       "\n",
       "                                      user_description  \\\n",
       "2    The latest in #ChatGPT, #BARD, #Bing, and othe...   \n",
       "3    Founder of Silicon Valley PR, award-winning PR...   \n",
       "4    #ChatGPT (AI) powered Free Trading Signal! \n",
       "Le...   \n",
       "6    Test RiteKit #RESTAPI solutions in demo page. ...   \n",
       "7    🇨🇦 #blockchain #ai #ChatGPT #promptcraft 🤖wiza...   \n",
       "..                                                 ...   \n",
       "493  See beyond, question more, believe in impossib...   \n",
       "494  Part-time Freelancer, Crypto & AI Enthusiast, ...   \n",
       "495  The #1 news outlet for public relations, publi...   \n",
       "497  🚀✨ We help you to build your productivity syst...   \n",
       "498  Set your Twitter account on auto-pilot and wat...   \n",
       "\n",
       "                  user_created user_followers user_friends user_favourites  \\\n",
       "2    2021-05-19 01:19:32+00:00          470.0        157.0            5185   \n",
       "3    2008-12-24 09:32:23+00:00         3864.0       1883.0            2415   \n",
       "4    2022-11-21 04:42:18+00:00         1517.0        506.0              64   \n",
       "6    2015-01-31 04:13:07+00:00          176.0         54.0             274   \n",
       "7    2021-01-30 21:03:36+00:00          123.0        299.0            8938   \n",
       "..                         ...            ...          ...             ...   \n",
       "493  2018-02-12 12:17:29+00:00         3028.0        483.0            1103   \n",
       "494  2023-03-07 16:18:50+00:00           14.0         74.0              33   \n",
       "495  2009-02-25 15:50:27+00:00        15013.0       2876.0               1   \n",
       "497  2010-12-04 11:00:53+00:00         3460.0        332.0            4464   \n",
       "498  2022-03-30 10:35:13+00:00           50.0        111.0              64   \n",
       "\n",
       "    user_verified                       date  \\\n",
       "2           False  2023-05-17 18:11:03+00:00   \n",
       "3           False  2023-05-17 18:10:25+00:00   \n",
       "4           False  2023-05-17 18:09:39+00:00   \n",
       "6           False  2023-05-17 18:09:04+00:00   \n",
       "7           False  2023-05-17 18:09:00+00:00   \n",
       "..            ...                        ...   \n",
       "493         False  2023-05-17 16:00:54+00:00   \n",
       "494         False  2023-05-17 16:00:40+00:00   \n",
       "495         False  2023-05-17 16:00:37+00:00   \n",
       "497         False  2023-05-17 16:00:30+00:00   \n",
       "498         False  2023-05-17 16:00:28+00:00   \n",
       "\n",
       "                             hashtags           source Sentiment  \n",
       "2         ['chatgpt', 'AI', 'openAI']          dlvr.it   neutral  \n",
       "3           ['startups', 'startup50']  Twitter Web App   neutral  \n",
       "4    ['Binance', 'Short', 'GHSTUSDT']             rsi1  positive  \n",
       "6                           ['Short']      RiteKit App  positive  \n",
       "7                     ['CerberusGPT']  Twitter Web App  positive  \n",
       "..                                ...              ...       ...  \n",
       "493                       ['chatGPT']  Twitter Web App  negative  \n",
       "494             ['ChatGPT', 'OPENAI']  Twitter Web App  positive  \n",
       "495                       ['ChatGPT']  Twitter Web App  negative  \n",
       "497                       ['chatGPT']   Hootsuite Inc.   neutral  \n",
       "498                       ['ChatGPT']     TweetingMonk   neutral  \n",
       "\n",
       "[270 rows x 13 columns]"
      ]
     },
     "execution_count": 275,
     "metadata": {},
     "output_type": "execute_result"
    }
   ],
   "source": [
    "feature_extraction"
   ]
  },
  {
   "cell_type": "code",
   "execution_count": 276,
   "id": "89f00f5b",
   "metadata": {},
   "outputs": [],
   "source": [
    "lbe = LabelEncoder()"
   ]
  },
  {
   "cell_type": "code",
   "execution_count": 277,
   "id": "9439a059",
   "metadata": {},
   "outputs": [
    {
     "name": "stderr",
     "output_type": "stream",
     "text": [
      "/var/folders/k5/0hwn24qd21xbn3t2lm2hcgq00000gn/T/ipykernel_865/2538201773.py:2: SettingWithCopyWarning: \n",
      "A value is trying to be set on a copy of a slice from a DataFrame.\n",
      "Try using .loc[row_indexer,col_indexer] = value instead\n",
      "\n",
      "See the caveats in the documentation: https://pandas.pydata.org/pandas-docs/stable/user_guide/indexing.html#returning-a-view-versus-a-copy\n",
      "  feature_extraction[i] = lbe.fit_transform(feature_extraction[i])\n"
     ]
    }
   ],
   "source": [
    "for i in feature_extraction:\n",
    "    feature_extraction[i] = lbe.fit_transform(feature_extraction[i])"
   ]
  },
  {
   "cell_type": "code",
   "execution_count": 279,
   "id": "d114a7d6",
   "metadata": {},
   "outputs": [],
   "source": [
    "feature_extraction = feature_extraction.drop(\"text\" , axis = 1)"
   ]
  },
  {
   "cell_type": "code",
   "execution_count": 281,
   "id": "ff4a10ce",
   "metadata": {},
   "outputs": [
    {
     "data": {
      "image/png": "[encoded data removed]",
      "text/plain": [
       "<Figure size 640x480 with 2 Axes>"
      ]
     },
     "metadata": {},
     "output_type": "display_data"
    }
   ],
   "source": [
    "corr_tweets = feature_extraction.corr()\n",
    "dataplot = sns.heatmap(corr_tweets, cmap=\"YlGnBu\", annot=True)"
   ]
  },
  {
   "cell_type": "code",
   "execution_count": 290,
   "id": "8f431983",
   "metadata": {},
   "outputs": [],
   "source": [
    "model_data = tweets_data.copy()\n",
    "model_data = model_data.dropna()\n",
    "for i in model_data:\n",
    "    model_data[i] = lbe.fit_transform(model_data[i])"
   ]
  },
  {
   "cell_type": "code",
   "execution_count": null,
   "id": "286c6105",
   "metadata": {},
   "outputs": [],
   "source": [
    "model_1 = RandomForestClassifier(n_estimators=200)\n",
    "model_1.fit(tfIdf_vector, model_data[\"Sentiment\"])\n",
    "predictions = model_1.predict(model_data[\"text\"])"
   ]
  },
  {
   "cell_type": "code",
   "execution_count": null,
   "id": "4791e092",
   "metadata": {},
   "outputs": [],
   "source": [
    "model_2 = RandomForestClassifier(n_estimators=200)\n",
    "model_2.fit(count_vector, model_data[\"Sentiment\"])\n",
    "predictions = model_2.predict(model_data[\"text\"])"
   ]
  },
  {
   "cell_type": "code",
   "execution_count": null,
   "id": "379921fb",
   "metadata": {},
   "outputs": [],
   "source": [
    "model_3 = RandomForestClassifier(n_estimators=200)\n",
    "model_2.fit(w2v_vector, model_data[\"Sentiment\"])\n",
    "predictions = model_2.predict(model_data[\"text\"])"
   ]
  },
  {
   "cell_type": "code",
   "execution_count": null,
   "id": "cb861baa",
   "metadata": {},
   "outputs": [],
   "source": [
    "classifier = GaussianNB();\n",
    "classifier.fit(tfIdf_vecor, model_data[\"Sentiment\"])\n",
    "y_pred = classifier.predict(model_data[\"text\"])\n",
    "cm = confusion_matrix(model_data[\"Sentiment\"], y_pred)"
   ]
  },
  {
   "cell_type": "code",
   "execution_count": null,
   "id": "d7919da4",
   "metadata": {},
   "outputs": [],
   "source": [
    "classifier.fit(count_vecor, model_data[\"Sentiment\"])\n",
    "y_pred = classifier.predict(model_data[\"text\"])\n",
    "cm = confusion_matrix(model_data[\"Sentiment\"], y_pred)"
   ]
  },
  {
   "cell_type": "code",
   "execution_count": null,
   "id": "df97ca58",
   "metadata": {},
   "outputs": [],
   "source": [
    "classifier.fit(w2v_vecor, model_data[\"Sentiment\"])\n",
    "y_pred = classifier.predict(model_data[\"text\"])\n",
    "cm = confusion_matrix(model_data[\"Sentiment\"], y_pred)"
   ]
  },
  {
   "cell_type": "code",
   "execution_count": null,
   "id": "d396a337",
   "metadata": {},
   "outputs": [],
   "source": [
    "# Import various layers needed for the architecture from keras\n",
    "from tensorflow.keras.layers import Conv1D, Bidirectional, LSTM, Dense, Input, Dropout\n",
    "from tensorflow.keras.layers import SpatialDropout1D\n",
    "from tensorflow.keras.callbacks import ModelCheckpoint\n",
    "# The Input layer \n",
    "sequence_input = Input(shape=(30,), dtype='int32')\n",
    "# Inputs passed to the embedding layer\n",
    "embedding_sequences = embedding_layer(sequence_input)\n",
    "# dropout and conv layer \n",
    "x = SpatialDropout1D(0.2)(embedding_sequences)\n",
    "x = Conv1D(64, 5, activation='relu')(x)\n",
    "# Passed on to the LSTM layer\n",
    "x = Bidirectional(LSTM(64, dropout=0.2, recurrent_dropout=0.2))(x)\n",
    "x = Dense(512, activation='relu')(x)\n",
    "x = Dropout(0.5)(x)\n",
    "x = Dense(512, activation='relu')(x)\n",
    "# Passed on to activation layer to get final output\n",
    "outputs = Dense(1, activation='sigmoid')(x)\n",
    "model = tf.keras.Model(sequence_input, outputs)"
   ]
  },
  {
   "cell_type": "code",
   "execution_count": null,
   "id": "68da5b5d",
   "metadata": {},
   "outputs": [],
   "source": [
    "from tensorflow.keras.optimizers import Adam\n",
    "from tensorflow.keras.callbacks import ReduceLROnPlateau\n",
    "model.compile(optimizer=Adam(learning_rate=LR), loss='binary_crossentropy',metrics=['accuracy'])\n",
    "ReduceLROnPlateau = ReduceLROnPlateau(factor=0.1,min_lr = 0.01, monitor = 'val_loss',verbose = 1)"
   ]
  },
  {
   "cell_type": "code",
   "execution_count": null,
   "id": "3118b553",
   "metadata": {},
   "outputs": [],
   "source": [
    "training_tfidf = model.fit(tfIdf_vector, model_data[\"Sentiment\"], batch_size=1024, epochs=10,\n",
    "                    validation_data=(x_test, y_test), callbacks=[ReduceLROnPlateau])"
   ]
  },
  {
   "cell_type": "code",
   "execution_count": null,
   "id": "214cafbb",
   "metadata": {},
   "outputs": [],
   "source": [
    "training = model.fit(count_vector, model_data[\"Sentiment\"], batch_size=1024, epochs=10,\n",
    "                    validation_data=(x_test, y_test), callbacks=[ReduceLROnPlateau])"
   ]
  },
  {
   "cell_type": "code",
   "execution_count": null,
   "id": "c27b2e2b",
   "metadata": {},
   "outputs": [],
   "source": [
    "training = model.fit(w2v_vector, model_data[\"Sentiment\"], batch_size=1024, epochs=10,\n",
    "                    validation_data=(x_test, y_test), callbacks=[ReduceLROnPlateau])"
   ]
  }
 ],
 "metadata": {
  "kernelspec": {
   "display_name": "Python 3 (ipykernel)",
   "language": "python",
   "name": "python3"
  },
  "language_info": {
   "codemirror_mode": {
    "name": "ipython",
    "version": 3
   },
   "file_extension": ".py",
   "mimetype": "text/x-python",
   "name": "python",
   "nbconvert_exporter": "python",
   "pygments_lexer": "ipython3",
   "version": "3.9.16"
  }
 },
 "nbformat": 4,
 "nbformat_minor": 5
}
